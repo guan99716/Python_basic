{
 "cells": [
  {
   "cell_type": "code",
   "execution_count": 1,
   "id": "94dd5128",
   "metadata": {},
   "outputs": [
    {
     "name": "stdout",
     "output_type": "stream",
     "text": [
      "L =  [4, 5, 6]\n",
      "M =  [4, 5, 6]\n",
      "L =  [100, 5, 6]\n",
      "M =  [100, 5, 6]\n"
     ]
    }
   ],
   "source": [
    "L = [1, 2, 3]\n",
    "M = [4, 5, 6]\n",
    "L = M # l與M指向同一個物件M, 此時L和M都是[4,5,6]\n",
    "print(\"L = \",L)\n",
    "print(\"M = \",M)\n",
    "L[0] = 100 # M[0] 也會更改\n",
    "print(\"L = \",L)\n",
    "print(\"M = \",M)"
   ]
  },
  {
   "cell_type": "code",
   "execution_count": 2,
   "id": "f9001feb",
   "metadata": {},
   "outputs": [
    {
     "name": "stdout",
     "output_type": "stream",
     "text": [
      "[1, 2, 3]\n"
     ]
    }
   ],
   "source": [
    "# 但如果是local variable就不會更改\n",
    "M = [4,5,6]\n",
    "def change_value(L):\n",
    "    L = M\n",
    "    L[0] = 3\n",
    "L = [1,2,3] # 注意: 這裡的L和函數內的L是不一樣的\n",
    "change_value(L)  \n",
    "print(L)"
   ]
  },
  {
   "cell_type": "code",
   "execution_count": 3,
   "id": "4a1a6993",
   "metadata": {},
   "outputs": [
    {
     "name": "stdout",
     "output_type": "stream",
     "text": [
      "[1, 2, 3]\n",
      "[3, 5, 6]\n"
     ]
    }
   ],
   "source": [
    "# 為了避免混淆,可以換個代號\n",
    "M = [4,5,6]\n",
    "def change_value(N):\n",
    "    N = M\n",
    "    N[0] = 3\n",
    "\n",
    "L = [1,2,3] \n",
    "change_value(L)\n",
    "print(L)\n",
    "print(M)\n",
    "\n",
    "# 此時做的事情是 把N=[1,2,3] 傳入函數中，與L無關\n",
    "# change_value(N=[1,2,3])\n",
    "# N=M將N的值\n",
    "# N[0] = 3,  此時M[0]也會跟著改\n",
    "# 但L並不會改動"
   ]
  },
  {
   "cell_type": "markdown",
   "id": "76e3abcd",
   "metadata": {},
   "source": [
    "## 問題\n",
    "在做tree的演算法時(如traversal)，我們常會寫curr=root，用來避免更改root的位置，但curr與root指向同一個物件，\n",
    "curr更改時，root是不是也會跟著改動？<br>\n",
    "Ans: 如果root是全域變數的話，確實是會如此，但一般來說root會當作函數的引數(區域變數)，為了避免混淆，將函數的參數寫Root，舉例來說: "
   ]
  },
  {
   "cell_type": "code",
   "execution_count": 4,
   "id": "ad0a0aa8",
   "metadata": {},
   "outputs": [],
   "source": [
    "# root = TreeNode(3)\n",
    "# root.right = TreeNode(4)\n",
    "# root.right = TreeNode(5)\n",
    "#  3\n",
    "#   \\\n",
    "#    4\n",
    "#     \\\n",
    "#      5\n",
    "    \n",
    "# def foo(Root):\n",
    "#     curr = Root\n",
    "#     curr = curr.right\n",
    "#     return Root.val\n",
    "\n",
    "# foo(Root=root) -> 3 (而非4) "
   ]
  },
  {
   "cell_type": "code",
   "execution_count": 5,
   "id": "50023352",
   "metadata": {},
   "outputs": [
    {
     "data": {
      "text/plain": [
       "3"
      ]
     },
     "execution_count": 5,
     "metadata": {},
     "output_type": "execute_result"
    }
   ],
   "source": [
    "class Node:\n",
    "    def __init__(self,val):\n",
    "        self.val = val\n",
    "        self.left = None\n",
    "        self.right = None\n",
    "\n",
    "root = Node(3)\n",
    "root.right = Node(4)\n",
    "root.right.right = Node(5)\n",
    "\n",
    "def foo(Root):\n",
    "    curr = Root\n",
    "    curr = curr.right\n",
    "    return Root.val\n",
    "foo(root) # root的值不會改\n",
    "\n",
    "# foo(Root=root)\n",
    "# Root會得到root的copy"
   ]
  },
  {
   "cell_type": "code",
   "execution_count": null,
   "id": "2d2dc929",
   "metadata": {},
   "outputs": [],
   "source": []
  }
 ],
 "metadata": {
  "kernelspec": {
   "display_name": "Python 3 (ipykernel)",
   "language": "python",
   "name": "python3"
  },
  "language_info": {
   "codemirror_mode": {
    "name": "ipython",
    "version": 3
   },
   "file_extension": ".py",
   "mimetype": "text/x-python",
   "name": "python",
   "nbconvert_exporter": "python",
   "pygments_lexer": "ipython3",
   "version": "3.10.9"
  }
 },
 "nbformat": 4,
 "nbformat_minor": 5
}
